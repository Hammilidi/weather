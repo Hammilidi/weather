{
 "cells": [
  {
   "cell_type": "markdown",
   "metadata": {},
   "source": [
    "## Transformations\n",
    "\n",
    "\n",
    "- Valeurs manquantes\n",
    "- Colonnes inutiles (Time = date, radiation, precipitation)\n",
    "- Ajouter des colonnes (Classification des sols, qualite de l'air)\n",
    "- Conversion des dates"
   ]
  },
  {
   "cell_type": "code",
   "execution_count": 69,
   "metadata": {},
   "outputs": [],
   "source": [
    "import pandas as pd\n",
    "\n",
    "air = pd.read_csv(\"/home/FIL_ROUGE/Historical/data/raw/air/airQuality.csv\")\n",
    "df = pd.read_csv(\"/home/FIL_ROUGE/Historical/data/raw/openmeteo/weather.csv\")\n",
    "\n",
    "# Effectuer la jointure sur la colonne de date\n",
    "merged_df = pd.merge(air, df, left_on='time', right_on='time', how='outer')\n",
    "\n",
    "# Conversion de date\n",
    "merged_df['time'] = pd.to_datetime(merged_df['time'], unit='s')  # Convertir en datetime\n",
    "merged_df['time'] = merged_df['time'].dt.strftime('%Y-%m-%d-%H-%M-%S')  # Formater en string\n",
    "\n",
    "# Remplacer les valeurs manquantes par 0 dans le DataFrame fusionné\n",
    "merged_df = merged_df.fillna(0)\n",
    "\n",
    "# Exporter les données transformées sous format .csv\n",
    "merged_df.to_csv(\"/home/FIL_ROUGE/Historical/data/processed/weatherAirSoil.csv\", index=False)\n",
    "\n",
    "# Convertir la colonne 'time' en type 'datetime'\n",
    "merged_df['time'] = pd.to_datetime(merged_df['time'], format='%Y-%m-%d-%H-%M-%S')\n"
   ]
  },
  {
   "cell_type": "code",
   "execution_count": 71,
   "metadata": {},
   "outputs": [
    {
     "data": {
      "text/plain": [
       "time                                  datetime64[ns]\n",
       "pm10 (μg/m³)                                 float64\n",
       "pm2_5 (μg/m³)                                float64\n",
       "carbon_monoxide (μg/m³)                      float64\n",
       "nitrogen_dioxide (μg/m³)                     float64\n",
       "sulphur_dioxide (μg/m³)                      float64\n",
       "ozone (μg/m³)                                float64\n",
       "temperature_2m (°C)                          float64\n",
       "relative_humidity_2m (%)                       int64\n",
       "dew_point_2m (°C)                            float64\n",
       "apparent_temperature (°C)                    float64\n",
       "precipitation (mm)                           float64\n",
       "rain (mm)                                    float64\n",
       "snowfall (cm)                                float64\n",
       "snow_depth (m)                               float64\n",
       "weather_code (wmo code)                        int64\n",
       "pressure_msl (hPa)                           float64\n",
       "surface_pressure (hPa)                       float64\n",
       "cloud_cover (%)                                int64\n",
       "cloud_cover_low (%)                            int64\n",
       "cloud_cover_mid (%)                            int64\n",
       "cloud_cover_high (%)                           int64\n",
       "et0_fao_evapotranspiration (mm)              float64\n",
       "vapour_pressure_deficit (kPa)                float64\n",
       "wind_speed_10m (m/s)                         float64\n",
       "wind_speed_100m (m/s)                        float64\n",
       "wind_direction_10m (°)                         int64\n",
       "wind_direction_100m (°)                        int64\n",
       "wind_gusts_10m (m/s)                         float64\n",
       "soil_temperature_0_to_7cm (°C)               float64\n",
       "soil_temperature_7_to_28cm (°C)              float64\n",
       "soil_temperature_28_to_100cm (°C)            float64\n",
       "soil_temperature_100_to_255cm (°C)           float64\n",
       "soil_moisture_0_to_7cm (m³/m³)               float64\n",
       "soil_moisture_7_to_28cm (m³/m³)              float64\n",
       "soil_moisture_28_to_100cm (m³/m³)            float64\n",
       "soil_moisture_100_to_255cm (m³/m³)           float64\n",
       "dtype: object"
      ]
     },
     "execution_count": 71,
     "metadata": {},
     "output_type": "execute_result"
    }
   ],
   "source": [
    "merged_df.dtypes"
   ]
  }
 ],
 "metadata": {
  "kernelspec": {
   "display_name": "Python 3",
   "language": "python",
   "name": "python3"
  },
  "language_info": {
   "codemirror_mode": {
    "name": "ipython",
    "version": 3
   },
   "file_extension": ".py",
   "mimetype": "text/x-python",
   "name": "python",
   "nbconvert_exporter": "python",
   "pygments_lexer": "ipython3",
   "version": "3.10.12"
  }
 },
 "nbformat": 4,
 "nbformat_minor": 2
}
