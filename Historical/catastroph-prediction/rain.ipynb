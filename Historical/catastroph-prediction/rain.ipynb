{
 "cells": [
  {
   "cell_type": "code",
   "execution_count": 2,
   "metadata": {},
   "outputs": [
    {
     "name": "stdout",
     "output_type": "stream",
     "text": [
      "Collecting scikit-learn\n",
      "  Downloading scikit_learn-1.3.2-cp310-cp310-manylinux_2_17_x86_64.manylinux2014_x86_64.whl (10.8 MB)\n",
      "\u001b[2K     \u001b[90m━━━━━━━━━━━━━━━━━━━━━━━━━━━━━━━━━━━━━━━━\u001b[0m \u001b[32m10.8/10.8 MB\u001b[0m \u001b[31m31.6 kB/s\u001b[0m eta \u001b[36m0:00:00\u001b[0m00:01\u001b[0m00:08\u001b[0m\n",
      "\u001b[?25hCollecting threadpoolctl>=2.0.0\n",
      "  Downloading threadpoolctl-3.2.0-py3-none-any.whl (15 kB)\n",
      "Collecting scipy>=1.5.0\n",
      "  Using cached scipy-1.11.4-cp310-cp310-manylinux_2_17_x86_64.manylinux2014_x86_64.whl (36.4 MB)\n",
      "Requirement already satisfied: numpy<2.0,>=1.17.3 in /usr/local/lib/python3.10/dist-packages (from scikit-learn) (1.26.1)\n",
      "Collecting joblib>=1.1.1\n",
      "  Downloading joblib-1.3.2-py3-none-any.whl (302 kB)\n",
      "\u001b[2K     \u001b[90m━━━━━━━━━━━━━━━━━━━━━━━━━━━━━━━━━━━━━━\u001b[0m \u001b[32m302.2/302.2 KB\u001b[0m \u001b[31m23.1 kB/s\u001b[0m eta \u001b[36m0:00:00\u001b[0m00:01\u001b[0m00:01\u001b[0m\n",
      "\u001b[?25hInstalling collected packages: threadpoolctl, scipy, joblib, scikit-learn\n",
      "Successfully installed joblib-1.3.2 scikit-learn-1.3.2 scipy-1.11.4 threadpoolctl-3.2.0\n",
      "\u001b[33mWARNING: Running pip as the 'root' user can result in broken permissions and conflicting behaviour with the system package manager. It is recommended to use a virtual environment instead: https://pip.pypa.io/warnings/venv\u001b[0m\u001b[33m\n",
      "\u001b[0mNote: you may need to restart the kernel to use updated packages.\n"
     ]
    }
   ],
   "source": [
    "%pip install scikit-learn"
   ]
  },
  {
   "cell_type": "code",
   "execution_count": 26,
   "metadata": {},
   "outputs": [],
   "source": [
    "import pandas as pd\n",
    "import streamlit as st\n",
    "from sklearn.model_selection import train_test_split\n",
    "from sklearn.ensemble import RandomForestRegressor, GradientBoostingRegressor\n",
    "from sklearn.metrics import mean_squared_error\n",
    "from sklearn.ensemble import BaggingRegressor\n",
    "from sklearn.ensemble import StackingRegressor\n",
    "from sklearn.linear_model import LinearRegression\n",
    "from sklearn.svm import SVR\n",
    "from sklearn.pipeline import make_pipeline\n",
    "from sklearn.preprocessing import StandardScaler\n",
    "from sklearn.tree import DecisionTreeRegressor\n",
    "\n",
    "# Charger le dataset\n",
    "# Assurez-vous d'ajuster le chemin du fichier CSV en conséquence\n",
    "df = pd.read_csv(\"/home/FIL_ROUGE/Historical/data/raw/openmeteo/open-meteo-2000-2023.csv\", parse_dates=[\"time\"])\n",
    "\n",
    "df['time'] = pd.to_datetime(df['time']).dt.tz_localize(None)  # Retirer le fuseau horaire\n",
    "\n",
    "df.fillna(0, inplace=True)\n",
    "\n",
    "# Extraire des caractéristiques pertinentes de la colonne \"time\"\n",
    "df['hour'] = df['time'].dt.hour\n",
    "df['day_of_week'] = df['time'].dt.dayofweek\n",
    "df['month'] = df['time'].dt.month\n",
    "\n",
    "# Séparer les features et la target\n",
    "X = df.drop(columns=['rain (mm)', 'time'])\n",
    "y = df['rain (mm)']\n",
    "\n",
    "# Diviser le dataset en ensembles d'entraînement et de test\n",
    "X_train, X_test, y_train, y_test = train_test_split(X, y, test_size=0.2, random_state=42)\n"
   ]
  },
  {
   "cell_type": "code",
   "execution_count": 27,
   "metadata": {},
   "outputs": [
    {
     "name": "stderr",
     "output_type": "stream",
     "text": [
      "/usr/local/lib/python3.10/dist-packages/sklearn/ensemble/_base.py:156: FutureWarning: `base_estimator` was renamed to `estimator` in version 1.2 and will be removed in 1.4.\n",
      "  warnings.warn(\n"
     ]
    },
    {
     "name": "stdout",
     "output_type": "stream",
     "text": [
      "RMSE (Bagging): 0.00279667712129172\n"
     ]
    }
   ],
   "source": [
    "# Initialiser les modèles de base\n",
    "models = [\n",
    "    RandomForestRegressor(random_state=42),\n",
    "    GradientBoostingRegressor(random_state=42),\n",
    "    DecisionTreeRegressor(random_state=42),\n",
    "]\n",
    "\n",
    "# Créer le modèle de Bagging\n",
    "bagging_model = BaggingRegressor(base_estimator=None, n_estimators=10, random_state=42)\n",
    "\n",
    "# Entraîner le modèle de Bagging\n",
    "bagging_model.fit(X_train, y_train)\n",
    "\n",
    "# Faire des prédictions sur l'ensemble de test\n",
    "y_pred_bagging = bagging_model.predict(X_test)\n",
    "\n",
    "# Calculer l'erreur quadratique moyenne (RMSE)\n",
    "rmse_bagging = mean_squared_error(y_test, y_pred_bagging, squared=False)\n",
    "print(f'RMSE (Bagging): {rmse_bagging}')\n"
   ]
  },
  {
   "cell_type": "code",
   "execution_count": 24,
   "metadata": {},
   "outputs": [
    {
     "name": "stdout",
     "output_type": "stream",
     "text": [
      "Requirement already satisfied: joblib in /usr/local/lib/python3.10/dist-packages (1.3.2)\n",
      "\u001b[33mWARNING: Running pip as the 'root' user can result in broken permissions and conflicting behaviour with the system package manager. It is recommended to use a virtual environment instead: https://pip.pypa.io/warnings/venv\u001b[0m\u001b[33m\n",
      "\u001b[0mNote: you may need to restart the kernel to use updated packages.\n"
     ]
    }
   ],
   "source": [
    "%pip install joblib"
   ]
  },
  {
   "cell_type": "code",
   "execution_count": 28,
   "metadata": {},
   "outputs": [
    {
     "data": {
      "text/plain": [
       "['bagging_model.joblib']"
      ]
     },
     "execution_count": 28,
     "metadata": {},
     "output_type": "execute_result"
    }
   ],
   "source": [
    "import joblib\n",
    "\n",
    "# Sauvegarder le modèle dans un fichier\n",
    "joblib.dump(bagging_model, 'bagging_model.joblib')\n"
   ]
  },
  {
   "cell_type": "code",
   "execution_count": 19,
   "metadata": {},
   "outputs": [
    {
     "name": "stdout",
     "output_type": "stream",
     "text": [
      "   temperature_2m (°C)  relativehumidity_2m (%)  dewpoint_2m (°C)  \\\n",
      "0             0.327817                 0.069682          0.033535   \n",
      "\n",
      "   apparent_temperature (°C)  precipitation (mm)  snowfall (cm)  \\\n",
      "0                   0.476305            0.190481       0.731238   \n",
      "\n",
      "   snow_depth (m)  weathercode (wmo code)  pressure_msl (hPa)  \\\n",
      "0        0.424842                0.463721            0.848468   \n",
      "\n",
      "   surface_pressure (hPa)  ...  direct_normal_irradiance (W/m²)  \\\n",
      "0                0.317523  ...                         0.776348   \n",
      "\n",
      "   terrestrial_radiation (W/m²)  shortwave_radiation_instant (W/m²)  \\\n",
      "0                      0.847609                            0.591905   \n",
      "\n",
      "   direct_radiation_instant (W/m²)  diffuse_radiation_instant (W/m²)  \\\n",
      "0                         0.629875                          0.928606   \n",
      "\n",
      "   direct_normal_irradiance_instant (W/m²)  \\\n",
      "0                                 0.750275   \n",
      "\n",
      "   terrestrial_radiation_instant (W/m²)      hour  day_of_week     month  \n",
      "0                              0.006962  0.811503     0.711799  0.373477  \n",
      "\n",
      "[1 rows x 42 columns]\n",
      "\n",
      "\n",
      "\n",
      "****************************************************************************\n",
      "\n",
      "Prédiction de la pluie (mm): 0.1100000000000001\n",
      "\n",
      "\n",
      "\n",
      "****************************************************************************\n"
     ]
    }
   ],
   "source": [
    "import numpy as np\n",
    "\n",
    "# Vous pouvez ajuster cela en fonction des caractéristiques réelles utilisées dans votre modèle\n",
    "feature_columns = X_train.columns\n",
    "\n",
    "# Générer des valeurs aléatoires pour chaque caractéristique\n",
    "random_values = np.random.rand(1, len(feature_columns))\n",
    "\n",
    "# Créer un dataframe avec ces valeurs aléatoires\n",
    "random_input = pd.DataFrame(random_values, columns=feature_columns)\n",
    "\n",
    "# Faire la prédiction avec le modèle entraîné\n",
    "predicted_rain = bagging_model.predict(random_input)\n",
    "\n",
    "# print(\"Valeurs d'entrée aléatoires:\")\n",
    "print(random_input)\n",
    "print(\"\\n\\n\")\n",
    "print(\"****************************************************************************\")\n",
    "print(\"\\nPrédiction de la pluie (mm):\", predicted_rain[0])\n",
    "print(\"\\n\\n\")\n",
    "\n",
    "print(\"****************************************************************************\")\n"
   ]
  },
  {
   "cell_type": "code",
   "execution_count": 21,
   "metadata": {},
   "outputs": [
    {
     "name": "stdout",
     "output_type": "stream",
     "text": [
      "Quantité de pluie par mois :\n",
      "month\n",
      "1     135.13\n",
      "2     321.79\n",
      "3     206.28\n",
      "4      86.03\n",
      "5     104.17\n",
      "6      51.40\n",
      "7      21.50\n",
      "8      48.02\n",
      "9     225.08\n",
      "10    272.97\n",
      "11    356.63\n",
      "12    156.63\n",
      "Name: predicted_rain, dtype: float64\n",
      "\n",
      "Quantité de pluie par an :\n",
      "year\n",
      "2000     16.22\n",
      "2001     19.30\n",
      "2002     83.40\n",
      "2003    110.33\n",
      "2004     65.39\n",
      "2005     70.91\n",
      "2006    177.74\n",
      "2007     46.16\n",
      "2008    132.09\n",
      "2009     96.62\n",
      "2010    122.56\n",
      "2011     94.53\n",
      "2012     39.00\n",
      "2013     52.67\n",
      "2014    235.82\n",
      "2015     61.09\n",
      "2016     90.92\n",
      "2017     40.14\n",
      "2018     92.58\n",
      "2019     51.70\n",
      "2020     59.52\n",
      "2021     76.94\n",
      "2022     75.32\n",
      "2023     74.68\n",
      "Name: predicted_rain, dtype: float64\n",
      "\n",
      "Alerte de sécheresse : True\n",
      "Alerte d'inondation : False\n"
     ]
    }
   ],
   "source": [
    "# 1. Prédiction de la quantité de pluie par mois\n",
    "df['predicted_rain'] = bagging_model.predict(X)  # Utiliser le modèle pour prédire la pluie\n",
    "df['month'] = df['time'].dt.month\n",
    "\n",
    "# Agréger par mois\n",
    "monthly_rain = df.groupby(['month'])['predicted_rain'].sum()\n",
    "\n",
    "# Afficher la quantité de pluie par mois\n",
    "print(\"Quantité de pluie par mois :\")\n",
    "print(monthly_rain)\n",
    "\n",
    "# 2. Prédiction de la quantité de pluie par an\n",
    "df['year'] = df['time'].dt.year\n",
    "\n",
    "# Agréger par an\n",
    "annual_rain = df.groupby(['year'])['predicted_rain'].sum()\n",
    "\n",
    "# Afficher la quantité de pluie par an\n",
    "print(\"\\nQuantité de pluie par an :\")\n",
    "print(annual_rain)\n",
    "\n",
    "# 3. Système d'alerte\n",
    "seuil_secheresse = 100  # Seuil pour déclencher une alerte de sécheresse\n",
    "seuil_inondation = 500  # Seuil pour déclencher une alerte d'inondation\n",
    "\n",
    "# Déclencher des alertes en fonction des seuils\n",
    "alert_secheresse = annual_rain.min() < seuil_secheresse\n",
    "alert_inondation = annual_rain.max() > seuil_inondation\n",
    "\n",
    "# Afficher les alertes\n",
    "print(\"\\nAlerte de sécheresse :\", alert_secheresse)\n",
    "print(\"Alerte d'inondation :\", alert_inondation)\n"
   ]
  },
  {
   "cell_type": "code",
   "execution_count": 22,
   "metadata": {},
   "outputs": [
    {
     "name": "stdout",
     "output_type": "stream",
     "text": [
      "Collecting streamlit\n",
      "  Downloading streamlit-1.30.0-py2.py3-none-any.whl (8.4 MB)\n",
      "\u001b[2K     \u001b[90m━━━━━━━━━━━━━━━━━━━━━━━━━━━━━━━━━━━━━━━━\u001b[0m \u001b[32m8.4/8.4 MB\u001b[0m \u001b[31m229.6 kB/s\u001b[0m eta \u001b[36m0:00:00\u001b[0m00:01\u001b[0m00:01\u001b[0m\n",
      "\u001b[?25hCollecting gitpython!=3.1.19,<4,>=3.0.7\n",
      "  Downloading GitPython-3.1.41-py3-none-any.whl (196 kB)\n",
      "\u001b[2K     \u001b[90m━━━━━━━━━━━━━━━━━━━━━━━━━━━━━━━━━━━━━\u001b[0m \u001b[32m196.4/196.4 KB\u001b[0m \u001b[31m439.8 kB/s\u001b[0m eta \u001b[36m0:00:00\u001b[0ma \u001b[36m0:00:01\u001b[0m\n",
      "\u001b[?25hRequirement already satisfied: python-dateutil<3,>=2.7.3 in /root/.local/lib/python3.10/site-packages (from streamlit) (2.8.2)\n",
      "Collecting tzlocal<6,>=1.1\n",
      "  Downloading tzlocal-5.2-py3-none-any.whl (17 kB)\n",
      "Requirement already satisfied: numpy<2,>=1.19.3 in /usr/local/lib/python3.10/dist-packages (from streamlit) (1.26.1)\n",
      "Requirement already satisfied: blinker<2,>=1.0.0 in /usr/lib/python3/dist-packages (from streamlit) (1.4)\n",
      "Collecting protobuf<5,>=3.20\n",
      "  Downloading protobuf-4.25.2-cp37-abi3-manylinux2014_x86_64.whl (294 kB)\n",
      "\u001b[2K     \u001b[90m━━━━━━━━━━━━━━━━━━━━━━━━━━━━━━━━━━━━━\u001b[0m \u001b[32m294.6/294.6 KB\u001b[0m \u001b[31m493.2 kB/s\u001b[0m eta \u001b[36m0:00:00\u001b[0m00:01\u001b[0m00:01\u001b[0m\n",
      "\u001b[?25hCollecting validators<1,>=0.2\n",
      "  Downloading validators-0.22.0-py3-none-any.whl (26 kB)\n",
      "Collecting watchdog>=2.1.5\n",
      "  Downloading watchdog-3.0.0-py3-none-manylinux2014_x86_64.whl (82 kB)\n",
      "\u001b[2K     \u001b[90m━━━━━━━━━━━━━━━━━━━━━━━━━━━━━━━━━━━━━━━\u001b[0m \u001b[32m82.1/82.1 KB\u001b[0m \u001b[31m347.1 kB/s\u001b[0m eta \u001b[36m0:00:00\u001b[0m00:01\u001b[0m00:01\u001b[0m\n",
      "\u001b[?25hCollecting cachetools<6,>=4.0\n",
      "  Downloading cachetools-5.3.2-py3-none-any.whl (9.3 kB)\n",
      "Requirement already satisfied: typing-extensions<5,>=4.3.0 in /usr/local/lib/python3.10/dist-packages (from streamlit) (4.8.0)\n",
      "Requirement already satisfied: requests<3,>=2.27 in /usr/local/lib/python3.10/dist-packages (from streamlit) (2.31.0)\n",
      "Collecting tenacity<9,>=8.1.0\n",
      "  Using cached tenacity-8.2.3-py3-none-any.whl (24 kB)\n",
      "Requirement already satisfied: importlib-metadata<8,>=1.4 in /usr/lib/python3/dist-packages (from streamlit) (4.6.4)\n",
      "Requirement already satisfied: pandas<3,>=1.3.0 in /usr/local/lib/python3.10/dist-packages (from streamlit) (2.1.2)\n",
      "Collecting toml<2,>=0.10.1\n",
      "  Downloading toml-0.10.2-py2.py3-none-any.whl (16 kB)\n",
      "Collecting pydeck<1,>=0.8.0b4\n",
      "  Downloading pydeck-0.8.1b0-py2.py3-none-any.whl (4.8 MB)\n",
      "\u001b[2K     \u001b[90m━━━━━━━━━━━━━━━━━━━━━━━━━━━━━━━━━━━━━━━━\u001b[0m \u001b[32m4.8/4.8 MB\u001b[0m \u001b[31m185.9 kB/s\u001b[0m eta \u001b[36m0:00:00\u001b[0m00:01\u001b[0m00:01\u001b[0m\n",
      "\u001b[?25hCollecting pillow<11,>=7.1.0\n",
      "  Downloading pillow-10.2.0-cp310-cp310-manylinux_2_28_x86_64.whl (4.5 MB)\n",
      "\u001b[2K     \u001b[90m━━━━━━━━━━━━━━━━━━━━━━━━━━━━━━━━━━━━━━━━\u001b[0m \u001b[32m4.5/4.5 MB\u001b[0m \u001b[31m165.8 kB/s\u001b[0m eta \u001b[36m0:00:00\u001b[0m00:01\u001b[0m00:01\u001b[0m\n",
      "\u001b[?25hRequirement already satisfied: tornado<7,>=6.0.3 in /root/.local/lib/python3.10/site-packages (from streamlit) (6.3.3)\n",
      "Collecting rich<14,>=10.14.0\n",
      "  Downloading rich-13.7.0-py3-none-any.whl (240 kB)\n",
      "\u001b[2K     \u001b[90m━━━━━━━━━━━━━━━━━━━━━━━━━━━━━━━━━━━━━\u001b[0m \u001b[32m240.6/240.6 KB\u001b[0m \u001b[31m468.3 kB/s\u001b[0m eta \u001b[36m0:00:00\u001b[0ma \u001b[36m0:00:01\u001b[0m\n",
      "\u001b[?25hCollecting click<9,>=7.0\n",
      "  Using cached click-8.1.7-py3-none-any.whl (97 kB)\n",
      "Collecting altair<6,>=4.0\n",
      "  Downloading altair-5.2.0-py3-none-any.whl (996 kB)\n",
      "\u001b[2K     \u001b[90m━━━━━━━━━━━━━━━━━━━━━━━━━━━━━━━━━━━━━\u001b[0m \u001b[32m996.9/996.9 KB\u001b[0m \u001b[31m125.0 kB/s\u001b[0m eta \u001b[36m0:00:00\u001b[0m00:01\u001b[0m00:01\u001b[0m\n",
      "\u001b[?25hRequirement already satisfied: packaging<24,>=16.8 in /root/.local/lib/python3.10/site-packages (from streamlit) (23.2)\n",
      "Collecting pyarrow>=6.0\n",
      "  Downloading pyarrow-14.0.2-cp310-cp310-manylinux_2_28_x86_64.whl (38.0 MB)\n",
      "\u001b[2K     \u001b[90m━━━━━━━━━━━━━━━━━━━━━━━━━━━━━━━━━━━━━━━\u001b[0m \u001b[32m38.0/38.0 MB\u001b[0m \u001b[31m227.4 kB/s\u001b[0m eta \u001b[36m0:00:00\u001b[0m00:01\u001b[0m00:05\u001b[0m\n",
      "\u001b[?25hCollecting toolz\n",
      "  Downloading toolz-0.12.0-py3-none-any.whl (55 kB)\n",
      "\u001b[2K     \u001b[90m━━━━━━━━━━━━━━━━━━━━━━━━━━━━━━━━━━━━━━━\u001b[0m \u001b[32m55.8/55.8 KB\u001b[0m \u001b[31m177.1 kB/s\u001b[0m eta \u001b[36m0:00:00\u001b[0ma \u001b[36m0:00:01\u001b[0m\n",
      "\u001b[?25hRequirement already satisfied: jsonschema>=3.0 in /usr/lib/python3/dist-packages (from altair<6,>=4.0->streamlit) (3.2.0)\n",
      "Collecting jinja2\n",
      "  Downloading Jinja2-3.1.3-py3-none-any.whl (133 kB)\n",
      "\u001b[2K     \u001b[90m━━━━━━━━━━━━━━━━━━━━━━━━━━━━━━━━━━━━━\u001b[0m \u001b[32m133.2/133.2 KB\u001b[0m \u001b[31m138.1 kB/s\u001b[0m eta \u001b[36m0:00:00\u001b[0m00:01\u001b[0m00:01\u001b[0m\n",
      "\u001b[?25hCollecting gitdb<5,>=4.0.1\n",
      "  Downloading gitdb-4.0.11-py3-none-any.whl (62 kB)\n",
      "\u001b[2K     \u001b[90m━━━━━━━━━━━━━━━━━━━━━━━━━━━━━━━━━━━━━━━\u001b[0m \u001b[32m62.7/62.7 KB\u001b[0m \u001b[31m112.5 kB/s\u001b[0m eta \u001b[36m0:00:00\u001b[0ma \u001b[36m0:00:01\u001b[0m\n",
      "\u001b[?25hRequirement already satisfied: tzdata>=2022.1 in /usr/local/lib/python3.10/dist-packages (from pandas<3,>=1.3.0->streamlit) (2023.3)\n",
      "Requirement already satisfied: pytz>=2020.1 in /usr/local/lib/python3.10/dist-packages (from pandas<3,>=1.3.0->streamlit) (2023.3.post1)\n",
      "Requirement already satisfied: six>=1.5 in /usr/lib/python3/dist-packages (from python-dateutil<3,>=2.7.3->streamlit) (1.16.0)\n",
      "Requirement already satisfied: urllib3<3,>=1.21.1 in /usr/local/lib/python3.10/dist-packages (from requests<3,>=2.27->streamlit) (2.0.7)\n",
      "Requirement already satisfied: idna<4,>=2.5 in /usr/local/lib/python3.10/dist-packages (from requests<3,>=2.27->streamlit) (3.4)\n",
      "Requirement already satisfied: charset-normalizer<4,>=2 in /usr/local/lib/python3.10/dist-packages (from requests<3,>=2.27->streamlit) (3.3.1)\n",
      "Requirement already satisfied: certifi>=2017.4.17 in /usr/local/lib/python3.10/dist-packages (from requests<3,>=2.27->streamlit) (2023.7.22)\n",
      "Collecting markdown-it-py>=2.2.0\n",
      "  Downloading markdown_it_py-3.0.0-py3-none-any.whl (87 kB)\n",
      "\u001b[2K     \u001b[90m━━━━━━━━━━━━━━━━━━━━━━━━━━━━━━━━━━━━━━━\u001b[0m \u001b[32m87.5/87.5 KB\u001b[0m \u001b[31m108.0 kB/s\u001b[0m eta \u001b[36m0:00:00\u001b[0ma \u001b[36m0:00:01\u001b[0m\n",
      "\u001b[?25hRequirement already satisfied: pygments<3.0.0,>=2.13.0 in /root/.local/lib/python3.10/site-packages (from rich<14,>=10.14.0->streamlit) (2.16.1)\n",
      "Collecting smmap<6,>=3.0.1\n",
      "  Downloading smmap-5.0.1-py3-none-any.whl (24 kB)\n",
      "Collecting MarkupSafe>=2.0\n",
      "  Using cached MarkupSafe-2.1.3-cp310-cp310-manylinux_2_17_x86_64.manylinux2014_x86_64.whl (25 kB)\n",
      "Collecting mdurl~=0.1\n",
      "  Downloading mdurl-0.1.2-py3-none-any.whl (10.0 kB)\n",
      "Installing collected packages: watchdog, validators, tzlocal, toolz, toml, tenacity, smmap, pyarrow, protobuf, pillow, mdurl, MarkupSafe, click, cachetools, markdown-it-py, jinja2, gitdb, rich, pydeck, gitpython, altair, streamlit\n",
      "Successfully installed MarkupSafe-2.1.3 altair-5.2.0 cachetools-5.3.2 click-8.1.7 gitdb-4.0.11 gitpython-3.1.41 jinja2-3.1.3 markdown-it-py-3.0.0 mdurl-0.1.2 pillow-10.2.0 protobuf-4.25.2 pyarrow-14.0.2 pydeck-0.8.1b0 rich-13.7.0 smmap-5.0.1 streamlit-1.30.0 tenacity-8.2.3 toml-0.10.2 toolz-0.12.0 tzlocal-5.2 validators-0.22.0 watchdog-3.0.0\n",
      "\u001b[33mWARNING: Running pip as the 'root' user can result in broken permissions and conflicting behaviour with the system package manager. It is recommended to use a virtual environment instead: https://pip.pypa.io/warnings/venv\u001b[0m\u001b[33m\n",
      "\u001b[0mNote: you may need to restart the kernel to use updated packages.\n"
     ]
    }
   ],
   "source": [
    "%pip install streamlit"
   ]
  },
  {
   "cell_type": "code",
   "execution_count": 29,
   "metadata": {},
   "outputs": [
    {
     "data": {
      "text/plain": [
       "Index(['temperature_2m (°C)', 'relativehumidity_2m (%)', 'dewpoint_2m (°C)',\n",
       "       'apparent_temperature (°C)', 'precipitation (mm)', 'snowfall (cm)',\n",
       "       'snow_depth (m)', 'weathercode (wmo code)', 'pressure_msl (hPa)',\n",
       "       'surface_pressure (hPa)', 'cloudcover (%)', 'cloudcover_low (%)',\n",
       "       'cloudcover_mid (%)', 'cloudcover_high (%)',\n",
       "       'et0_fao_evapotranspiration (mm)', 'vapor_pressure_deficit (kPa)',\n",
       "       'windspeed_10m (m/s)', 'windspeed_100m (m/s)', 'winddirection_10m (°)',\n",
       "       'winddirection_100m (°)', 'windgusts_10m (m/s)',\n",
       "       'soil_temperature_0_to_7cm (°C)', 'soil_temperature_7_to_28cm (°C)',\n",
       "       'soil_temperature_28_to_100cm (°C)',\n",
       "       'soil_temperature_100_to_255cm (°C)', 'soil_moisture_0_to_7cm (m³/m³)',\n",
       "       'soil_moisture_7_to_28cm (m³/m³)', 'soil_moisture_28_to_100cm (m³/m³)',\n",
       "       'soil_moisture_100_to_255cm (m³/m³)', 'shortwave_radiation (W/m²)',\n",
       "       'direct_radiation (W/m²)', 'diffuse_radiation (W/m²)',\n",
       "       'direct_normal_irradiance (W/m²)', 'terrestrial_radiation (W/m²)',\n",
       "       'shortwave_radiation_instant (W/m²)', 'direct_radiation_instant (W/m²)',\n",
       "       'diffuse_radiation_instant (W/m²)',\n",
       "       'direct_normal_irradiance_instant (W/m²)',\n",
       "       'terrestrial_radiation_instant (W/m²)', 'hour', 'day_of_week', 'month'],\n",
       "      dtype='object')"
      ]
     },
     "execution_count": 29,
     "metadata": {},
     "output_type": "execute_result"
    }
   ],
   "source": [
    "X_train.columns"
   ]
  },
  {
   "cell_type": "code",
   "execution_count": 23,
   "metadata": {},
   "outputs": [
    {
     "name": "stderr",
     "output_type": "stream",
     "text": [
      "2024-01-17 15:16:06.823 \n",
      "  \u001b[33m\u001b[1mWarning:\u001b[0m to view this Streamlit app on a browser, run it with the following\n",
      "  command:\n",
      "\n",
      "    streamlit run /root/.local/lib/python3.10/site-packages/ipykernel_launcher.py [ARGUMENTS]\n"
     ]
    }
   ],
   "source": [
    "import streamlit as st\n",
    "import pandas as pd\n",
    "import numpy as np\n",
    "\n",
    "# Charger les données (remplacez le chemin par le vôtre)\n",
    "df = pd.read_csv(\"/home/FIL_ROUGE/Historical/data/raw/openmeteo/open-meteo-2000-2023.csv\", parse_dates=[\"time\"])\n",
    "\n",
    "# Simulation de prédictions pour les besoins de l'exemple\n",
    "df['predicted_rain'] = np.random.rand(len(df)) * 10  # Remplacez ceci par vos prédictions réelles\n",
    "\n",
    "# Calculer la quantité de pluie par mois\n",
    "df['month'] = df['time'].dt.month\n",
    "monthly_rain = df.groupby(['month'])['predicted_rain'].sum()\n",
    "\n",
    "# Calculer la quantité de pluie par an\n",
    "df['year'] = df['time'].dt.year\n",
    "annual_rain = df.groupby(['year'])['predicted_rain'].sum()\n",
    "\n",
    "# Seuils pour les alertes\n",
    "seuil_secheresse = 100\n",
    "seuil_inondation = 500\n",
    "\n",
    "# Déclencher des alertes en fonction des seuils\n",
    "alert_secheresse = annual_rain.min() < seuil_secheresse\n",
    "alert_inondation = annual_rain.max() > seuil_inondation\n",
    "\n",
    "# Interface Streamlit\n",
    "st.title(\"Prédictions de Pluie et Alertes Météo\")\n",
    "\n",
    "# Affichage de la quantité de pluie par mois\n",
    "st.subheader(\"Quantité de pluie par mois\")\n",
    "st.bar_chart(monthly_rain)\n",
    "\n",
    "# Affichage de la quantité de pluie par an\n",
    "st.subheader(\"Quantité de pluie par an\")\n",
    "st.bar_chart(annual_rain)\n",
    "\n",
    "# Affichage des alertes météo\n",
    "st.subheader(\"Alertes Météo\")\n",
    "st.write(f\"Alerte de sécheresse : {alert_secheresse}\")\n",
    "st.write(f\"Alerte d'inondation : {alert_inondation}\")\n"
   ]
  }
 ],
 "metadata": {
  "kernelspec": {
   "display_name": "Python 3",
   "language": "python",
   "name": "python3"
  },
  "language_info": {
   "codemirror_mode": {
    "name": "ipython",
    "version": 3
   },
   "file_extension": ".py",
   "mimetype": "text/x-python",
   "name": "python",
   "nbconvert_exporter": "python",
   "pygments_lexer": "ipython3",
   "version": "3.10.12"
  }
 },
 "nbformat": 4,
 "nbformat_minor": 2
}
